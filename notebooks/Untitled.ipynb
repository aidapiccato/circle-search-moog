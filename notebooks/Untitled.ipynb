{
 "cells": [
  {
   "cell_type": "code",
   "execution_count": 116,
   "id": "employed-oxford",
   "metadata": {},
   "outputs": [],
   "source": [
    "import numpy as np\n",
    "import matplotlib.pyplot as plt\n",
    "from matplotlib.colors import hsv_to_rgb"
   ]
  },
  {
   "cell_type": "markdown",
   "id": "electoral-determination",
   "metadata": {},
   "source": [
    "# Testing\n",
    "Some math concepts related to the circle search task. "
   ]
  },
  {
   "cell_type": "markdown",
   "id": "confirmed-mapping",
   "metadata": {},
   "source": [
    "## Constructing input"
   ]
  },
  {
   "cell_type": "code",
   "execution_count": 151,
   "id": "sized-turner",
   "metadata": {},
   "outputs": [
    {
     "name": "stdout",
     "output_type": "stream",
     "text": [
      "[12]\n"
     ]
    }
   ],
   "source": [
    "_RED = [0, 1.0, 1.0]\n",
    "_GREEN = [0.3, 1.0, 1.0]\n",
    "_BLUE = [0.7, 1.0, 1.0]\n",
    "_COLORS = [_RED, _GREEN, _BLUE]\n",
    "_GRAY = [0, 0, 0.7]\n",
    "_MAX_CONTACTS = 3\n",
    "_N_CIRCLES = 18\n",
    "\n",
    "fruits_rad = np.linspace(0 + (2 * np.pi / _N_CIRCLES), 2 * np.pi, _N_CIRCLES)\n",
    "fruits_grid_x = 0.2 * np.cos(fruits_rad) + 0.5\n",
    "fruits_grid_y = 0.2 * np.sin(fruits_rad) + 0.5\n",
    "rot = np.random.randint(low=0, high=len(fruits_grid_x)-1, size=1)\n",
    "print(rot)\n",
    "fruits_grid_x = np.roll(fruits_grid_x, rot)\n",
    "fruits_grid_y = np.roll(fruits_grid_y, rot)\n",
    "fruits_colors_base = [_RED, _GREEN, _BLUE]\n",
    "fruits_colors = np.repeat(fruits_colors_base, _N_CIRCLES/len(fruits_colors_base), axis=0)\n",
    "fruits_colors_rot = np.roll(fruits_colors, rot, axis=0)"
   ]
  },
  {
   "cell_type": "markdown",
   "id": "looking-description",
   "metadata": {},
   "source": [
    "Input can be either an $N x N_c$ matrix, where $N$ is the number of possible positions and $N_c$ the number of possible colors. This is a one-hot encoding of the input. Alternatively, we can create a $N x 2$ list of tuples, where each element in the second array is a number corresponding to the color. Let's stick to the first one, since this should make it easier to do some operations later on. "
   ]
  },
  {
   "cell_type": "code",
   "execution_count": 153,
   "id": "applicable-charger",
   "metadata": {},
   "outputs": [],
   "source": [
    "circle = np.zeros((len(_COLORS), _N_CIRCLES))\n",
    "for i, color in enumerate(_COLORS):\n",
    "    ixs = [(color == l_color).all() for l_color in fruits_colors_rot]    \n",
    "    circle[i][ixs] = 1"
   ]
  },
  {
   "cell_type": "code",
   "execution_count": 154,
   "id": "designed-reaction",
   "metadata": {},
   "outputs": [],
   "source": [
    "prior_circle = np.zeros((len(_COLORS), _N_CIRCLES))\n",
    "for i, color in enumerate(_COLORS):\n",
    "    ixs = [(color == l_color).all() for l_color in fruits_colors]    \n",
    "    prior_circle[i][ixs] = 1"
   ]
  },
  {
   "cell_type": "code",
   "execution_count": 155,
   "id": "bacterial-encoding",
   "metadata": {},
   "outputs": [
    {
     "data": {
      "image/png": "[encoded data removed]",
      "text/plain": [
       "<Figure size 432x288 with 1 Axes>"
      ]
     },
     "metadata": {
      "needs_background": "light"
     },
     "output_type": "display_data"
    },
    {
     "data": {
      "image/png": "[encoded data removed]",
      "text/plain": [
       "<Figure size 432x288 with 1 Axes>"
      ]
     },
     "metadata": {
      "needs_background": "light"
     },
     "output_type": "display_data"
    }
   ],
   "source": [
    "plt.imshow(prior_circle)\n",
    "plt.show()\n",
    "plt.imshow(circle)\n",
    "plt.show()"
   ]
  },
  {
   "cell_type": "markdown",
   "id": "floral-final",
   "metadata": {},
   "source": [
    "So now we have a prior and the latent structure for an example trial. We should now construct a sample trial. This will consist of a tuple with a location in the first element and a color index in the second. We can generate this by randomly selecting a position and then finding the color at that position. "
   ]
  },
  {
   "cell_type": "code",
   "execution_count": 162,
   "id": "automatic-spoke",
   "metadata": {},
   "outputs": [
    {
     "name": "stdout",
     "output_type": "stream",
     "text": [
      "(17, 0)\n"
     ]
    }
   ],
   "source": [
    "p_t = np.random.randint(_N_CIRCLES, size=1)[0]\n",
    "p_c = np.where(circle[:, p_t])[0][0]\n",
    "e = (p_t, p_c)\n",
    "print(e)"
   ]
  },
  {
   "cell_type": "markdown",
   "id": "optical-plumbing",
   "metadata": {},
   "source": [
    "So now we have evidence for a single trial. We can think of two different ways of estimating the correct angle for the next trial."
   ]
  },
  {
   "cell_type": "markdown",
   "id": "covered-participation",
   "metadata": {},
   "source": [
    "## Relational model"
   ]
  },
  {
   "cell_type": "markdown",
   "id": "cathedral-entrepreneur",
   "metadata": {},
   "source": [
    "We can calculate (or remember) the pairwise angle offset between each color, and then apply this to the given angle find the correct offset. We'll need a method to find the COM of the target and source color in the prior, calculate the offset, and then return "
   ]
  },
  {
   "cell_type": "code",
   "execution_count": 107,
   "id": "headed-absorption",
   "metadata": {},
   "outputs": [],
   "source": [
    "def _com(prior):\n",
    "    return np.flatnonzero(prior).mean()\n",
    "def relational(p_s, c_s, c_t, prior):\n",
    "    n_colors, n_pos = prior.shape\n",
    "    # find COM of source in prior\n",
    "    com_source_prior = _com(prior[c_s])\n",
    "    # find COM of target in prior\n",
    "    com_target_prior = _com(prior[c_t])\n",
    "    # calculate offset of colors in prior. this is approximately the angle between the two colors on the prior. \n",
    "    com_offset = com_target_prior - com_source_prior\n",
    "    print(com_offset)\n",
    "#     # find offset from COM of source color\n",
    "#     cue_offset = p_s - com_source_prior \n",
    "#     print(cue_offset)\n",
    "#     return n_pos % (com_source_prior + com_offset + cue_offset)\n",
    "    return n_pos % (com_offset + p_s)\n",
    "\n",
    "def eval(c_t, p_t):\n",
    "    \"\"\"Returns an error measure for target color and subject estimate\"\"\"\n",
    "def allocentric(p_s, c_s, c_t, prior):\n",
    "    # find angle rotation\n",
    "    pass"
   ]
  },
  {
   "cell_type": "code",
   "execution_count": 108,
   "id": "speaking-brunswick",
   "metadata": {},
   "outputs": [
    {
     "name": "stdout",
     "output_type": "stream",
     "text": [
      "12.0\n"
     ]
    },
    {
     "data": {
      "text/plain": [
       "1.0"
      ]
     },
     "execution_count": 108,
     "metadata": {},
     "output_type": "execute_result"
    }
   ],
   "source": [
    "relational(e[0], e[1], 2, prior_circle)"
   ]
  },
  {
   "cell_type": "markdown",
   "id": "sticky-space",
   "metadata": {},
   "source": [
    "A few notes on the relational vs allocentric models\n",
    "- The relational does not involve estimating the rotation. We do this by simply assuming that the given position is the center of mass for the source color\n",
    "- In the allocentric, we do estimate the rotation and apply this to the prior over the source color. \n",
    "- I'm not sure what implications this will have in behavior, and what are other models we could construct"
   ]
  },
  {
   "cell_type": "markdown",
   "id": "surprising-minneapolis",
   "metadata": {},
   "source": [
    "## Testing generalization"
   ]
  },
  {
   "cell_type": "markdown",
   "id": "continent-cincinnati",
   "metadata": {},
   "source": [
    "Let's consider a probabilistic, Bayesian model of the circle search problem. You're provided with some evidence in the form of a single point item in a distribution over possible angles. This can be a square distribution (1 at the location where the evidence is, zero otherwise) or Gaussian if we account for some noise in estimating the exact location of the evidence. "
   ]
  },
  {
   "cell_type": "code",
   "execution_count": 175,
   "id": "distant-worst",
   "metadata": {},
   "outputs": [
    {
     "data": {
      "image/png": "[encoded data removed]",
      "text/plain": [
       "<Figure size 432x288 with 1 Axes>"
      ]
     },
     "metadata": {
      "needs_background": "light"
     },
     "output_type": "display_data"
    }
   ],
   "source": [
    "e_dist = np.zeros((_N_CIRCLES))\n",
    "e_dist[e[0]] = 1\n",
    "plt.plot(np.linspace(0, 2 * np.pi, _N_CIRCLES), e_dist, color=hsv_to_rgb(_COLORS[e[1]]))\n",
    "plt.xlabel('$\\\\theta$')\n",
    "plt.ylabel('evidence')\n",
    "plt.show()"
   ]
  },
  {
   "cell_type": "markdown",
   "id": "separate-celebrity",
   "metadata": {},
   "source": [
    "We also then have a map prior, which is a set of these distributions."
   ]
  },
  {
   "cell_type": "code",
   "execution_count": 174,
   "id": "clear-force",
   "metadata": {},
   "outputs": [
    {
     "data": {
      "image/png": "[encoded data removed]",
      "text/plain": [
       "<Figure size 432x288 with 1 Axes>"
      ]
     },
     "metadata": {
      "needs_background": "light"
     },
     "output_type": "display_data"
    }
   ],
   "source": [
    "for i, c in enumerate(prior_circle):\n",
    "    plt.plot(np.linspace(0, 2 * np.pi, _N_CIRCLES), c, color=hsv_to_rgb(_COLORS[i]))\n",
    "plt.xlabel('$\\\\theta$')\n",
    "plt.ylabel('$\\pi$')\n",
    "plt.show()"
   ]
  },
  {
   "cell_type": "markdown",
   "id": "appreciated-builder",
   "metadata": {},
   "source": [
    "Estimating rotation via dot product of estimate and prior"
   ]
  },
  {
   "cell_type": "code",
   "execution_count": 165,
   "id": "silver-invasion",
   "metadata": {},
   "outputs": [
    {
     "name": "stdout",
     "output_type": "stream",
     "text": [
      "90.0\n"
     ]
    }
   ],
   "source": [
    "norm_prior = prior_circle[e[1]]/np.linalg.norm(prior_circle[e[1]])\n",
    "est_rot = np.arccos(np.dot(norm_prior, e_dist))\n",
    "print(est_rot * 180 / np.pi)"
   ]
  },
  {
   "cell_type": "markdown",
   "id": "provincial-jewel",
   "metadata": {},
   "source": [
    "Obtaining a distribution of possible rotations"
   ]
  },
  {
   "cell_type": "code",
   "execution_count": 170,
   "id": "green-cameroon",
   "metadata": {},
   "outputs": [],
   "source": [
    "rots = np.arange(_N_CIRCLES)\n",
    "poss_rots = []\n",
    "for rot in rots: \n",
    "    if np.dot(np.roll(prior_circle[e[1]], rot), e_dist) > 0:\n",
    "        poss_rots.append(rot)\n",
    "rots_dist = np.zeros(_N_CIRCLES)\n",
    "rots_dist[poss_rots] = 1\n",
    "rots_dist /= np.linalg.norm(rots_dist)"
   ]
  },
  {
   "cell_type": "code",
   "execution_count": 173,
   "id": "surprising-minnesota",
   "metadata": {},
   "outputs": [
    {
     "data": {
      "image/png": "[encoded data removed]",
      "text/plain": [
       "<Figure size 432x288 with 1 Axes>"
      ]
     },
     "metadata": {
      "needs_background": "light"
     },
     "output_type": "display_data"
    }
   ],
   "source": [
    "plt.plot(rots_dist)\n",
    "plt.xlabel('$\\\\theta_r$')\n",
    "plt.show()"
   ]
  },
  {
   "cell_type": "code",
   "execution_count": null,
   "id": "senior-beast",
   "metadata": {},
   "outputs": [],
   "source": []
  }
 ],
 "metadata": {
  "kernelspec": {
   "display_name": "py3",
   "language": "python",
   "name": "py3"
  },
  "language_info": {
   "codemirror_mode": {
    "name": "ipython",
    "version": 3
   },
   "file_extension": ".py",
   "mimetype": "text/x-python",
   "name": "python",
   "nbconvert_exporter": "python",
   "pygments_lexer": "ipython3",
   "version": "3.8.5"
  }
 },
 "nbformat": 4,
 "nbformat_minor": 5
}
